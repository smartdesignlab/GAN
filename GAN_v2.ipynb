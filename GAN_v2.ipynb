{
 "cells": [
  {
   "cell_type": "code",
   "execution_count": 1,
   "metadata": {},
   "outputs": [
    {
     "name": "stderr",
     "output_type": "stream",
     "text": [
      "WARNING: Logging before flag parsing goes to stderr.\n",
      "W0826 01:39:17.463601 19868 deprecation.py:323] From <ipython-input-1-91c0fb6d590b>:11: read_data_sets (from tensorflow.contrib.learn.python.learn.datasets.mnist) is deprecated and will be removed in a future version.\n",
      "Instructions for updating:\n",
      "Please use alternatives such as official/mnist/dataset.py from tensorflow/models.\n",
      "W0826 01:39:17.475569 19868 deprecation.py:323] From C:\\Users\\Namwoo\\Anaconda3\\lib\\site-packages\\tensorflow\\contrib\\learn\\python\\learn\\datasets\\mnist.py:260: maybe_download (from tensorflow.contrib.learn.python.learn.datasets.base) is deprecated and will be removed in a future version.\n",
      "Instructions for updating:\n",
      "Please write your own downloading logic.\n",
      "W0826 01:39:17.477564 19868 deprecation.py:323] From C:\\Users\\Namwoo\\Anaconda3\\lib\\site-packages\\tensorflow\\contrib\\learn\\python\\learn\\datasets\\mnist.py:262: extract_images (from tensorflow.contrib.learn.python.learn.datasets.mnist) is deprecated and will be removed in a future version.\n",
      "Instructions for updating:\n",
      "Please use tf.data to implement this functionality.\n"
     ]
    },
    {
     "name": "stdout",
     "output_type": "stream",
     "text": [
      "Extracting ./mnist/data/train-images-idx3-ubyte.gz\n"
     ]
    },
    {
     "name": "stderr",
     "output_type": "stream",
     "text": [
      "W0826 01:39:17.863531 19868 deprecation.py:323] From C:\\Users\\Namwoo\\Anaconda3\\lib\\site-packages\\tensorflow\\contrib\\learn\\python\\learn\\datasets\\mnist.py:267: extract_labels (from tensorflow.contrib.learn.python.learn.datasets.mnist) is deprecated and will be removed in a future version.\n",
      "Instructions for updating:\n",
      "Please use tf.data to implement this functionality.\n",
      "W0826 01:39:17.870514 19868 deprecation.py:323] From C:\\Users\\Namwoo\\Anaconda3\\lib\\site-packages\\tensorflow\\contrib\\learn\\python\\learn\\datasets\\mnist.py:110: dense_to_one_hot (from tensorflow.contrib.learn.python.learn.datasets.mnist) is deprecated and will be removed in a future version.\n",
      "Instructions for updating:\n",
      "Please use tf.one_hot on tensors.\n",
      "W0826 01:39:17.963265 19868 deprecation.py:323] From C:\\Users\\Namwoo\\Anaconda3\\lib\\site-packages\\tensorflow\\contrib\\learn\\python\\learn\\datasets\\mnist.py:290: DataSet.__init__ (from tensorflow.contrib.learn.python.learn.datasets.mnist) is deprecated and will be removed in a future version.\n",
      "Instructions for updating:\n",
      "Please use alternatives such as official/mnist/dataset.py from tensorflow/models.\n"
     ]
    },
    {
     "name": "stdout",
     "output_type": "stream",
     "text": [
      "Extracting ./mnist/data/train-labels-idx1-ubyte.gz\n",
      "Extracting ./mnist/data/t10k-images-idx3-ubyte.gz\n",
      "Extracting ./mnist/data/t10k-labels-idx1-ubyte.gz\n"
     ]
    }
   ],
   "source": [
    "# GAN\n",
    "# 출처 : https://github.com/golbin/TensorFlow-Tutorials/blob/master/09%20-%20GAN/01%20-%20GAN.py\n",
    "\n",
    "# tensorflow 및 GAN을 돌리는데 필요한 library를 import\n",
    "import tensorflow as tf\n",
    "import matplotlib.pyplot as plt\n",
    "import numpy as np\n",
    "\n",
    "# mnist data를 import해서 mnist라는 변수에 저장\n",
    "from tensorflow.examples.tutorials.mnist import input_data\n",
    "mnist = input_data.read_data_sets(\"./mnist/data/\", one_hot=True)"
   ]
  },
  {
   "cell_type": "code",
   "execution_count": 2,
   "metadata": {},
   "outputs": [],
   "source": [
    "# hyper parameter 선언\n",
    "total_epoch = 30 # 전체 학습하는 과정을 100번 돌림\n",
    "batch_size = 100 # data를 가져올때마다 image 100개씩 가져와서 처리함\n",
    "learning_rate = 0.0002 # learning rate 설정\n",
    "\n",
    "# 신경망 레이어 구성 옵션\n",
    "n_hidden = 256 # hidden layer 차원 크기 설정\n",
    "n_input = 28 * 28 # image size\n",
    "n_noise = 128  # 생성기의 입력값으로 사용할 노이즈의 크기"
   ]
  },
  {
   "cell_type": "code",
   "execution_count": 3,
   "metadata": {},
   "outputs": [],
   "source": [
    "# 신경망 모델 구성\n",
    "\n",
    "X = tf.placeholder(tf.float32, [None, n_input]) # 입력으로 들어갈 이미지가 이 변수에 담기게 될 예정\n",
    "Z = tf.placeholder(tf.float32, [None, n_noise]) # 노이즈 Z를 입력값으로 사용\n",
    "\n",
    "# 생성기(Generator) 신경망에 사용하는 변수\n",
    "G_W1 = tf.Variable(tf.random_normal([n_noise, n_hidden], stddev=0.01)) # 랜덤한 숫자로 weight를 초기화\n",
    "G_b1 = tf.Variable(tf.zeros([n_hidden])) # 0으로 초기화\n",
    "G_W2 = tf.Variable(tf.random_normal([n_hidden, n_input], stddev=0.01))\n",
    "G_b2 = tf.Variable(tf.zeros([n_input]))\n",
    "\n",
    "# 판별기(Discriminator) 신경망에 사용하는 변수\n",
    "D_W1 = tf.Variable(tf.random_normal([n_input, n_hidden], stddev=0.01))\n",
    "D_b1 = tf.Variable(tf.zeros([n_hidden]))\n",
    "\n",
    "# 판별기의 최종 결과값은 얼마나 진짜와 가깝냐를 판단하는 한 개의 스칼라값\n",
    "D_W2 = tf.Variable(tf.random_normal([n_hidden, 1], stddev=0.01))\n",
    "D_b2 = tf.Variable(tf.zeros([1])) # 한개의 스칼라 값 = 숫자 하나를 0으로 초기화"
   ]
  },
  {
   "cell_type": "code",
   "execution_count": 4,
   "metadata": {},
   "outputs": [],
   "source": [
    "# 생성기(Generator)의 신경망을 구성\n",
    "def generator(noise_z):\n",
    "    hidden = tf.nn.relu(tf.matmul(noise_z, G_W1) + G_b1) # hidden layer는 relu 사용. noise_z가 input으로 들어간다.\n",
    "    output = tf.nn.sigmoid(tf.matmul(hidden, G_W2) + G_b2) # output은 sigmoid를 사용하여 0과 1사이 값으로 output이 나오도록 한다.\n",
    "    return output"
   ]
  },
  {
   "cell_type": "code",
   "execution_count": 5,
   "metadata": {},
   "outputs": [],
   "source": [
    "# 판별기(Discriminator)의 신경망을 구성\n",
    "def discriminator(inputs):\n",
    "    hidden = tf.nn.relu(tf.matmul(inputs, D_W1) + D_b1) # inputs(이미지)가 input으로 들어감\n",
    "    output = tf.nn.sigmoid(tf.matmul(hidden, D_W2) + D_b2) # 마찬가지로 sigmoid를 사용하여 0과 1사이 값으로 나오고 참/거짓으로 분류\n",
    "    return output"
   ]
  },
  {
   "cell_type": "code",
   "execution_count": 6,
   "metadata": {},
   "outputs": [],
   "source": [
    "# 랜덤한 노이즈(Z) 생성\n",
    "def get_noise(batch_size, n_noise):\n",
    "    return np.random.normal(size=(batch_size, n_noise))"
   ]
  },
  {
   "cell_type": "code",
   "execution_count": 7,
   "metadata": {},
   "outputs": [],
   "source": [
    "# 노이즈를 이용해 랜덤한 이미지를 생성\n",
    "G = generator(Z)\n",
    "# 노이즈를 이용해 생성한 이미지가 진짜 이미지인지 판별한 값을 구함\n",
    "D_gene = discriminator(G)\n",
    "# 진짜 이미지를 이용해 판별한 값을 구함\n",
    "D_real = discriminator(X)"
   ]
  },
  {
   "cell_type": "code",
   "execution_count": 8,
   "metadata": {},
   "outputs": [],
   "source": [
    "# Discriminator의 loss 함수\n",
    "# 판별기(D)에 진짜 이미지 tf.log(D_real)를 넣었을 때도 가짜 이미지 tf.log(1 - D_gene)를 넣었을 때도 최대값을 갖도록 학습한다\n",
    "loss_D = tf.reduce_mean(tf.log(D_real) + tf.log(1 - D_gene))"
   ]
  },
  {
   "cell_type": "markdown",
   "metadata": {},
   "source": [
    "![](img/g.PNG)"
   ]
  },
  {
   "cell_type": "code",
   "execution_count": 9,
   "metadata": {},
   "outputs": [],
   "source": [
    "# Generator의 loss 함수\n",
    "# 생성기(G)는 가짜 이미지를 넣었을 때 D가 실제 이미지라고 판단하도록 D_gene 값을 최대화 하도록 학습한다\n",
    "loss_G = tf.reduce_mean(tf.log(D_gene))"
   ]
  },
  {
   "cell_type": "markdown",
   "metadata": {},
   "source": [
    "![](img/d.PNG)"
   ]
  },
  {
   "cell_type": "code",
   "execution_count": 10,
   "metadata": {},
   "outputs": [],
   "source": [
    "# loss_D 를 구할 때는 판별기 신경망에 사용되는 변수만 사용하고,\n",
    "# loss_G 를 구할 때는 생성기 신경망에 사용되는 변수만 사용하여 최적화\n",
    "D_var_list = [D_W1, D_b1, D_W2, D_b2]\n",
    "G_var_list = [G_W1, G_b1, G_W2, G_b2]"
   ]
  },
  {
   "cell_type": "code",
   "execution_count": 11,
   "metadata": {},
   "outputs": [],
   "source": [
    "# GAN 논문의 수식에 따르면 loss 를 극대화 해야하지만, minimize 하는 최적화 함수를 사용하기 때문에\n",
    "# 최적화 하려는 loss_D 와 loss_G 에 음수 부호를 붙여줌\n",
    "train_D = tf.train.AdamOptimizer(learning_rate).minimize(-loss_D,var_list=D_var_list)\n",
    "train_G = tf.train.AdamOptimizer(learning_rate).minimize(-loss_G,var_list=G_var_list)"
   ]
  },
  {
   "cell_type": "code",
   "execution_count": 12,
   "metadata": {},
   "outputs": [
    {
     "name": "stdout",
     "output_type": "stream",
     "text": [
      "Epoch: 0000 D loss: -0.4563 G loss: -2.145\n"
     ]
    },
    {
     "data": {
      "image/png": "[encoded data removed]",
      "text/plain": [
       "<Figure size 720x72 with 10 Axes>"
      ]
     },
     "metadata": {
      "needs_background": "light"
     },
     "output_type": "display_data"
    },
    {
     "name": "stdout",
     "output_type": "stream",
     "text": [
      "Epoch: 0001 D loss: -0.2136 G loss: -2.672\n",
      "Epoch: 0002 D loss: -0.136 G loss: -3.099\n",
      "Epoch: 0003 D loss: -0.3172 G loss: -1.905\n",
      "Epoch: 0004 D loss: -0.3322 G loss: -2.342\n",
      "Epoch: 0005 D loss: -0.3155 G loss: -2.575\n",
      "Epoch: 0006 D loss: -0.206 G loss: -2.947\n",
      "Epoch: 0007 D loss: -0.2 G loss: -3.122\n",
      "Epoch: 0008 D loss: -0.1884 G loss: -3.202\n",
      "Epoch: 0009 D loss: -0.3172 G loss: -2.653\n"
     ]
    },
    {
     "data": {
      "image/png": "[encoded data removed]",
      "text/plain": [
       "<Figure size 720x72 with 10 Axes>"
      ]
     },
     "metadata": {
      "needs_background": "light"
     },
     "output_type": "display_data"
    },
    {
     "name": "stdout",
     "output_type": "stream",
     "text": [
      "Epoch: 0010 D loss: -0.2892 G loss: -2.768\n",
      "Epoch: 0011 D loss: -0.4394 G loss: -2.162\n",
      "Epoch: 0012 D loss: -0.4208 G loss: -2.278\n",
      "Epoch: 0013 D loss: -0.3818 G loss: -2.5\n",
      "Epoch: 0014 D loss: -0.3231 G loss: -2.737\n",
      "Epoch: 0015 D loss: -0.4089 G loss: -2.494\n",
      "Epoch: 0016 D loss: -0.2634 G loss: -2.887\n",
      "Epoch: 0017 D loss: -0.3299 G loss: -2.794\n",
      "Epoch: 0018 D loss: -0.412 G loss: -2.415\n",
      "Epoch: 0019 D loss: -0.3871 G loss: -2.442\n"
     ]
    },
    {
     "data": {
      "image/png": "[encoded data removed]",
      "text/plain": [
       "<Figure size 720x72 with 10 Axes>"
      ]
     },
     "metadata": {
      "needs_background": "light"
     },
     "output_type": "display_data"
    },
    {
     "name": "stdout",
     "output_type": "stream",
     "text": [
      "Epoch: 0020 D loss: -0.3634 G loss: -2.551\n",
      "Epoch: 0021 D loss: -0.2949 G loss: -2.764\n",
      "Epoch: 0022 D loss: -0.226 G loss: -3.261\n",
      "Epoch: 0023 D loss: -0.3714 G loss: -2.866\n",
      "Epoch: 0024 D loss: -0.3333 G loss: -2.957\n",
      "Epoch: 0025 D loss: -0.289 G loss: -3.156\n",
      "Epoch: 0026 D loss: -0.2084 G loss: -3.491\n",
      "Epoch: 0027 D loss: -0.3423 G loss: -3.017\n",
      "Epoch: 0028 D loss: -0.2756 G loss: -3.663\n",
      "Epoch: 0029 D loss: -0.387 G loss: -2.794\n"
     ]
    },
    {
     "data": {
      "image/png": "[encoded data removed]",
      "text/plain": [
       "<Figure size 720x72 with 10 Axes>"
      ]
     },
     "metadata": {
      "needs_background": "light"
     },
     "output_type": "display_data"
    },
    {
     "name": "stdout",
     "output_type": "stream",
     "text": [
      "최적화 완료!\n"
     ]
    }
   ],
   "source": [
    "# 신경망 모델 학습\n",
    "\n",
    "sess = tf.Session() # 세션 생성\n",
    "sess.run(tf.global_variables_initializer()) # 변수 초기화\n",
    "\n",
    "total_batch = int(mnist.train.num_examples/batch_size) # 전체 이미지 갯수/batch_size 해서 한번 학습 할때 100batch_size로 몇번을 해야 1epoch을 도는지 계산\n",
    "loss_val_D, loss_val_G = 0, 0 # 변수 0으로 초기화\n",
    "\n",
    "for epoch in range(total_epoch):\n",
    "    for i in range(total_batch):\n",
    "        batch_xs, batch_ys = mnist.train.next_batch(batch_size)\n",
    "        noise = get_noise(batch_size, n_noise)\n",
    "\n",
    "        # 판별기와 생성기 신경망을 각각 학습\n",
    "        _, loss_val_D = sess.run([train_D, loss_D], feed_dict={X: batch_xs, Z: noise})\n",
    "        _, loss_val_G = sess.run([train_G, loss_G], feed_dict={Z: noise})\n",
    "\n",
    "    print('Epoch:', '%04d' % epoch,\n",
    "          'D loss: {:.4}'.format(loss_val_D),\n",
    "          'G loss: {:.4}'.format(loss_val_G))\n",
    "    \n",
    "    \n",
    "    # 학습이 되어가는 모습을 보기 위해 주기적으로 이미지를 보여줌\n",
    "    if epoch == 0 or (epoch + 1) % 10 == 0:\n",
    "        sample_size = 10\n",
    "        noise = get_noise(sample_size, n_noise)\n",
    "        samples = sess.run(G, feed_dict={Z: noise})\n",
    "        \n",
    "        fig, ax = plt.subplots(1, sample_size, figsize=(sample_size, 1))\n",
    "\n",
    "        for i in range(sample_size):\n",
    "            ax[i].imshow(np.reshape(samples[i], (28, 28)), 'gray')\n",
    "        \n",
    "        plt.show()\n",
    "\n",
    "print('최적화 완료!')"
   ]
  },
  {
   "cell_type": "code",
   "execution_count": 13,
   "metadata": {},
   "outputs": [
    {
     "data": {
      "image/png": "[encoded data removed]",
      "text/plain": [
       "<Figure size 360x360 with 1 Axes>"
      ]
     },
     "metadata": {
      "needs_background": "light"
     },
     "output_type": "display_data"
    }
   ],
   "source": [
    "noise =get_noise(1, n_noise)\n",
    "G_img = sess.run(G, feed_dict = {Z: noise})\n",
    "\n",
    "plt.figure(figsize = (5,5))\n",
    "plt.imshow(G_img.reshape(28,28), 'gray')\n",
    "plt.axis('off')\n",
    "plt.show()"
   ]
  },
  {
   "cell_type": "code",
   "execution_count": null,
   "metadata": {},
   "outputs": [],
   "source": []
  }
 ],
 "metadata": {
  "kernelspec": {
   "display_name": "Python 3",
   "language": "python",
   "name": "python3"
  },
  "language_info": {
   "codemirror_mode": {
    "name": "ipython",
    "version": 3
   },
   "file_extension": ".py",
   "mimetype": "text/x-python",
   "name": "python",
   "nbconvert_exporter": "python",
   "pygments_lexer": "ipython3",
   "version": "3.7.3"
  }
 },
 "nbformat": 4,
 "nbformat_minor": 2
}
